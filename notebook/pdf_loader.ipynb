{
 "cells": [
  {
   "cell_type": "markdown",
   "id": "9a196ba5",
   "metadata": {},
   "source": [
    "## RAG Pipelines- Data Ingestion to Vector DB Pipeline"
   ]
  },
  {
   "cell_type": "code",
   "execution_count": 4,
   "id": "7ade0060",
   "metadata": {},
   "outputs": [],
   "source": [
    "import os\n",
    "from langchain_community.document_loaders import PyPDFLoader, PyMuPDFLoader\n",
    "from langchain_text_splitters import RecursiveCharacterTextSplitter\n",
    "from pathlib import Path"
   ]
  },
  {
   "cell_type": "code",
   "execution_count": 7,
   "id": "44b4bb7e",
   "metadata": {},
   "outputs": [
    {
     "name": "stdout",
     "output_type": "stream",
     "text": [
      "Found 2 PDF files to process\n",
      "\n",
      "Processing: Machine Learning Basics.pdf\n",
      "✓ Loaded 1 pages\n",
      "\n",
      "Processing: Python Programming Introduction.pdf\n",
      "✓ Loaded 1 pages\n",
      "\n",
      "Total documents loaded: 2\n"
     ]
    }
   ],
   "source": [
    "### Read all the pdf's inside the directory\n",
    "def process_all_pdfs(pdf_directory):\n",
    "  \"\"\"Process all PDF files in a directory\"\"\"\n",
    "  all_documents = []\n",
    "  pdf_dir = Path(pdf_directory)\n",
    "  # Find all PDF files recursively\n",
    "  pdf_files = list(pdf_dir.glob(\"**/*.pdf\"))\n",
    "    \n",
    "  print(f\"Found {len(pdf_files)} PDF files to process\")\n",
    "\n",
    "  for pdf_file in pdf_files:\n",
    "    print(f\"\\nProcessing: {pdf_file.name}\")\n",
    "    try:\n",
    "      loader = PyPDFLoader(str(pdf_file))\n",
    "      documents = loader.load()\n",
    "      \n",
    "      # Add source information to metadata\n",
    "      for doc in documents:\n",
    "          doc.metadata['source_file'] = pdf_file.name\n",
    "          doc.metadata['file_type'] = 'pdf'\n",
    "      \n",
    "      all_documents.extend(documents)\n",
    "      print(f\"✓ Loaded {len(documents)} pages\")\n",
    "        \n",
    "    except Exception as e:\n",
    "      print(f\"✗ Error: {e}\")\n",
    "\n",
    "  print(f\"\\nTotal documents loaded: {len(all_documents)}\")\n",
    "  return all_documents\n",
    "\n",
    "# Process all PDFs in the data directory\n",
    "all_pdf_documents = process_all_pdfs(\"../data\")"
   ]
  },
  {
   "cell_type": "code",
   "execution_count": 8,
   "id": "aeb7cc1f",
   "metadata": {},
   "outputs": [
    {
     "data": {
      "text/plain": [
       "[Document(metadata={'producer': 'PyPDF', 'creator': 'Microsoft Word', 'creationdate': '2025-10-21T13:51:10+00:00', 'author': 'aayush', 'moddate': '2025-10-21T13:51:10+00:00', 'source': '../data/pdf_files/Machine Learning Basics.pdf', 'total_pages': 1, 'page': 0, 'page_label': '1', 'source_file': 'Machine Learning Basics.pdf', 'file_type': 'pdf'}, page_content='Machine Learning Basics \\n \\nMachine learning is a subset of artificial intelligence that enables systems to learn and \\nimprove \\nfrom experience without being explicitly programmed. It focuses on developing \\ncomputer programs \\nthat can access data and use it to learn for themselves. \\n \\nTypes of Machine Learning: \\n1. Supervised Learning: Learning with labeled data \\n2. Unsupervised Learning: Finding patterns in unlabeled data \\n3. Reinforcement Learning: Learning through rewards and penalties \\n \\nApplications include image recognition, speech processing, and recommendation \\nsystems.'),\n",
       " Document(metadata={'producer': 'PyPDF', 'creator': 'Microsoft Word', 'creationdate': '2025-10-21T13:50:50+00:00', 'author': 'aayush', 'moddate': '2025-10-21T13:50:50+00:00', 'source': '../data/pdf_files/Python Programming Introduction.pdf', 'total_pages': 1, 'page': 0, 'page_label': '1', 'source_file': 'Python Programming Introduction.pdf', 'file_type': 'pdf'}, page_content='Python Programming Introduction \\n \\nPython is a high-level, interpreted programming language known for its simplicity and \\nreadability. \\nCreated by Guido van Rossum and first released in 1991, Python has become one of the \\nmost popular \\nprogramming languages in the world. \\n \\nKey Features: \\n- Easy to learn and use \\n- Extensive standard library \\n- Cross-platform compatibility \\n- Strong community support \\n \\nPython is widely used in web development, data science, artificial intelligence, and \\nautomation.')]"
      ]
     },
     "execution_count": 8,
     "metadata": {},
     "output_type": "execute_result"
    }
   ],
   "source": [
    "all_pdf_documents"
   ]
  },
  {
   "cell_type": "code",
   "execution_count": 9,
   "id": "9f9c4145",
   "metadata": {},
   "outputs": [],
   "source": [
    "### Text splitting get into chunks\n",
    "\n",
    "def split_documents(documents, chunk_size = 1000, chunk_overlap = 200):\n",
    "  \"\"\"Split documents into smaller chunks for better RAG performance\"\"\"\n",
    "  text_splitter = RecursiveCharacterTextSplitter(\n",
    "      chunk_size = chunk_size,\n",
    "      chunk_overlap = chunk_overlap,\n",
    "      length_function = len,\n",
    "      separators = [\"\\n\\n\", \"\\n\", \" \", \"\"]\n",
    "  )\n",
    "  split_docs = text_splitter.split_documents(documents)\n",
    "  print(f\"Split {len(documents)} documents into {len(split_docs)} chunks\")\n",
    "  \n",
    "  # Show example of a chunk\n",
    "  if split_docs:\n",
    "      print(f\"\\nExample chunk:\")\n",
    "      print(f\"Content: {split_docs[0].page_content[:200]}...\")\n",
    "      print(f\"Metadata: {split_docs[0].metadata}\")\n",
    "  \n",
    "  return split_docs"
   ]
  },
  {
   "cell_type": "code",
   "execution_count": 10,
   "id": "765b35c1",
   "metadata": {},
   "outputs": [
    {
     "name": "stdout",
     "output_type": "stream",
     "text": [
      "Split 2 documents into 2 chunks\n",
      "\n",
      "Example chunk:\n",
      "Content: Machine Learning Basics \n",
      " \n",
      "Machine learning is a subset of artificial intelligence that enables systems to learn and \n",
      "improve \n",
      "from experience without being explicitly programmed. It focuses on develo...\n",
      "Metadata: {'producer': 'PyPDF', 'creator': 'Microsoft Word', 'creationdate': '2025-10-21T13:51:10+00:00', 'author': 'aayush', 'moddate': '2025-10-21T13:51:10+00:00', 'source': '../data/pdf_files/Machine Learning Basics.pdf', 'total_pages': 1, 'page': 0, 'page_label': '1', 'source_file': 'Machine Learning Basics.pdf', 'file_type': 'pdf'}\n"
     ]
    },
    {
     "data": {
      "text/plain": [
       "[Document(metadata={'producer': 'PyPDF', 'creator': 'Microsoft Word', 'creationdate': '2025-10-21T13:51:10+00:00', 'author': 'aayush', 'moddate': '2025-10-21T13:51:10+00:00', 'source': '../data/pdf_files/Machine Learning Basics.pdf', 'total_pages': 1, 'page': 0, 'page_label': '1', 'source_file': 'Machine Learning Basics.pdf', 'file_type': 'pdf'}, page_content='Machine Learning Basics \\n \\nMachine learning is a subset of artificial intelligence that enables systems to learn and \\nimprove \\nfrom experience without being explicitly programmed. It focuses on developing \\ncomputer programs \\nthat can access data and use it to learn for themselves. \\n \\nTypes of Machine Learning: \\n1. Supervised Learning: Learning with labeled data \\n2. Unsupervised Learning: Finding patterns in unlabeled data \\n3. Reinforcement Learning: Learning through rewards and penalties \\n \\nApplications include image recognition, speech processing, and recommendation \\nsystems.'),\n",
       " Document(metadata={'producer': 'PyPDF', 'creator': 'Microsoft Word', 'creationdate': '2025-10-21T13:50:50+00:00', 'author': 'aayush', 'moddate': '2025-10-21T13:50:50+00:00', 'source': '../data/pdf_files/Python Programming Introduction.pdf', 'total_pages': 1, 'page': 0, 'page_label': '1', 'source_file': 'Python Programming Introduction.pdf', 'file_type': 'pdf'}, page_content='Python Programming Introduction \\n \\nPython is a high-level, interpreted programming language known for its simplicity and \\nreadability. \\nCreated by Guido van Rossum and first released in 1991, Python has become one of the \\nmost popular \\nprogramming languages in the world. \\n \\nKey Features: \\n- Easy to learn and use \\n- Extensive standard library \\n- Cross-platform compatibility \\n- Strong community support \\n \\nPython is widely used in web development, data science, artificial intelligence, and \\nautomation.')]"
      ]
     },
     "execution_count": 10,
     "metadata": {},
     "output_type": "execute_result"
    }
   ],
   "source": [
    "chunks=split_documents(all_pdf_documents)\n",
    "chunks"
   ]
  },
  {
   "cell_type": "markdown",
   "id": "ae11439a",
   "metadata": {},
   "source": [
    "### Embedding And vectorStoreDB\n"
   ]
  },
  {
   "cell_type": "code",
   "execution_count": null,
   "id": "11ab9209",
   "metadata": {},
   "outputs": [],
   "source": []
  }
 ],
 "metadata": {
  "kernelspec": {
   "display_name": "langchain-rag",
   "language": "python",
   "name": "python3"
  },
  "language_info": {
   "codemirror_mode": {
    "name": "ipython",
    "version": 3
   },
   "file_extension": ".py",
   "mimetype": "text/x-python",
   "name": "python",
   "nbconvert_exporter": "python",
   "pygments_lexer": "ipython3",
   "version": "3.14.0"
  }
 },
 "nbformat": 4,
 "nbformat_minor": 5
}
