{
 "cells": [
  {
   "cell_type": "markdown",
   "id": "9a196ba5",
   "metadata": {},
   "source": [
    "## RAG Pipelines- Data Ingestion to Vector DB Pipeline"
   ]
  },
  {
   "cell_type": "code",
   "execution_count": 4,
   "id": "7ade0060",
   "metadata": {},
   "outputs": [],
   "source": [
    "import os\n",
    "from langchain_community.document_loaders import PyPDFLoader, PyMuPDFLoader\n",
    "from langchain_text_splitters import RecursiveCharacterTextSplitter\n",
    "from pathlib import Path"
   ]
  },
  {
   "cell_type": "code",
   "execution_count": 5,
   "id": "9c234954",
   "metadata": {},
   "outputs": [
    {
     "name": "stdout",
     "output_type": "stream",
     "text": [
      "Found 2 PDF files to process\n",
      "\n",
      "Processing: Machine Learning Basics.pdf\n",
      "✓ Loaded 1 pages\n",
      "\n",
      "Processing: Python Programming Introduction.pdf\n",
      "✓ Loaded 1 pages\n",
      "\n",
      "Total documents loaded: 2\n"
     ]
    }
   ],
   "source": [
    "### Read all the pdf's inside the directory\n",
    "def process_all_pdfs(pdf_directory):\n",
    "  \"\"\"Process all PDF files in a directory\"\"\"\n",
    "  all_documents = []\n",
    "  pdf_dir = Path(pdf_directory)\n",
    "  # Find all PDF files recursively\n",
    "  pdf_files = list(pdf_dir.glob(\"**/*.pdf\"))\n",
    "    \n",
    "  print(f\"Found {len(pdf_files)} PDF files to process\")\n",
    "\n",
    "  for pdf_file in pdf_files:\n",
    "    print(f\"\\nProcessing: {pdf_file.name}\")\n",
    "    try:\n",
    "      loader = PyPDFLoader(str(pdf_file))\n",
    "      documents = loader.load()\n",
    "      \n",
    "      # Add source information to metadata\n",
    "      for doc in documents:\n",
    "          doc.metadata['source_file'] = pdf_file.name\n",
    "          doc.metadata['file_type'] = 'pdf'\n",
    "      \n",
    "      all_documents.extend(documents)\n",
    "      print(f\"✓ Loaded {len(documents)} pages\")\n",
    "        \n",
    "    except Exception as e:\n",
    "      print(f\"✗ Error: {e}\")\n",
    "\n",
    "  print(f\"\\nTotal documents loaded: {len(all_documents)}\")\n",
    "  return all_documents\n",
    "\n",
    "# Process all PDFs in the data directory\n",
    "all_pdf_documents = process_all_pdfs(\"../data\")"
   ]
  },
  {
   "cell_type": "code",
   "execution_count": 6,
   "id": "52d66839",
   "metadata": {},
   "outputs": [
    {
     "data": {
      "text/plain": [
       "[Document(metadata={'producer': 'PyPDF', 'creator': 'Microsoft Word', 'creationdate': '2025-10-21T13:51:10+00:00', 'author': 'aayush', 'moddate': '2025-10-21T13:51:10+00:00', 'source': '../data/pdf_files/Machine Learning Basics.pdf', 'total_pages': 1, 'page': 0, 'page_label': '1', 'source_file': 'Machine Learning Basics.pdf', 'file_type': 'pdf'}, page_content='Machine Learning Basics \\n \\nMachine learning is a subset of artificial intelligence that enables systems to learn and \\nimprove \\nfrom experience without being explicitly programmed. It focuses on developing \\ncomputer programs \\nthat can access data and use it to learn for themselves. \\n \\nTypes of Machine Learning: \\n1. Supervised Learning: Learning with labeled data \\n2. Unsupervised Learning: Finding patterns in unlabeled data \\n3. Reinforcement Learning: Learning through rewards and penalties \\n \\nApplications include image recognition, speech processing, and recommendation \\nsystems.'),\n",
       " Document(metadata={'producer': 'PyPDF', 'creator': 'Microsoft Word', 'creationdate': '2025-10-21T13:50:50+00:00', 'author': 'aayush', 'moddate': '2025-10-21T13:50:50+00:00', 'source': '../data/pdf_files/Python Programming Introduction.pdf', 'total_pages': 1, 'page': 0, 'page_label': '1', 'source_file': 'Python Programming Introduction.pdf', 'file_type': 'pdf'}, page_content='Python Programming Introduction \\n \\nPython is a high-level, interpreted programming language known for its simplicity and \\nreadability. \\nCreated by Guido van Rossum and first released in 1991, Python has become one of the \\nmost popular \\nprogramming languages in the world. \\n \\nKey Features: \\n- Easy to learn and use \\n- Extensive standard library \\n- Cross-platform compatibility \\n- Strong community support \\n \\nPython is widely used in web development, data science, artificial intelligence, and \\nautomation.')]"
      ]
     },
     "execution_count": 6,
     "metadata": {},
     "output_type": "execute_result"
    }
   ],
   "source": [
    "all_pdf_documents"
   ]
  },
  {
   "cell_type": "code",
   "execution_count": 7,
   "id": "85907e95",
   "metadata": {},
   "outputs": [],
   "source": [
    "### Text splitting get into chunks\n",
    "\n",
    "def split_documents(documents, chunk_size = 1000, chunk_overlap = 200):\n",
    "  \"\"\"Split documents into smaller chunks for better RAG performance\"\"\"\n",
    "  text_splitter = RecursiveCharacterTextSplitter(\n",
    "      chunk_size = chunk_size,\n",
    "      chunk_overlap = chunk_overlap,\n",
    "      length_function = len,\n",
    "      separators = [\"\\n\\n\", \"\\n\", \" \", \"\"]\n",
    "  )\n",
    "  split_docs = text_splitter.split_documents(documents)\n",
    "  print(f\"Split {len(documents)} documents into {len(split_docs)} chunks\")\n",
    "  \n",
    "  # Show example of a chunk\n",
    "  if split_docs:\n",
    "      print(f\"\\nExample chunk:\")\n",
    "      print(f\"Content: {split_docs[0].page_content[:200]}...\")\n",
    "      print(f\"Metadata: {split_docs[0].metadata}\")\n",
    "  \n",
    "  return split_docs"
   ]
  },
  {
   "cell_type": "code",
   "execution_count": 8,
   "id": "f1d0988a",
   "metadata": {},
   "outputs": [
    {
     "name": "stdout",
     "output_type": "stream",
     "text": [
      "Split 2 documents into 2 chunks\n",
      "\n",
      "Example chunk:\n",
      "Content: Machine Learning Basics \n",
      " \n",
      "Machine learning is a subset of artificial intelligence that enables systems to learn and \n",
      "improve \n",
      "from experience without being explicitly programmed. It focuses on develo...\n",
      "Metadata: {'producer': 'PyPDF', 'creator': 'Microsoft Word', 'creationdate': '2025-10-21T13:51:10+00:00', 'author': 'aayush', 'moddate': '2025-10-21T13:51:10+00:00', 'source': '../data/pdf_files/Machine Learning Basics.pdf', 'total_pages': 1, 'page': 0, 'page_label': '1', 'source_file': 'Machine Learning Basics.pdf', 'file_type': 'pdf'}\n"
     ]
    },
    {
     "data": {
      "text/plain": [
       "[Document(metadata={'producer': 'PyPDF', 'creator': 'Microsoft Word', 'creationdate': '2025-10-21T13:51:10+00:00', 'author': 'aayush', 'moddate': '2025-10-21T13:51:10+00:00', 'source': '../data/pdf_files/Machine Learning Basics.pdf', 'total_pages': 1, 'page': 0, 'page_label': '1', 'source_file': 'Machine Learning Basics.pdf', 'file_type': 'pdf'}, page_content='Machine Learning Basics \\n \\nMachine learning is a subset of artificial intelligence that enables systems to learn and \\nimprove \\nfrom experience without being explicitly programmed. It focuses on developing \\ncomputer programs \\nthat can access data and use it to learn for themselves. \\n \\nTypes of Machine Learning: \\n1. Supervised Learning: Learning with labeled data \\n2. Unsupervised Learning: Finding patterns in unlabeled data \\n3. Reinforcement Learning: Learning through rewards and penalties \\n \\nApplications include image recognition, speech processing, and recommendation \\nsystems.'),\n",
       " Document(metadata={'producer': 'PyPDF', 'creator': 'Microsoft Word', 'creationdate': '2025-10-21T13:50:50+00:00', 'author': 'aayush', 'moddate': '2025-10-21T13:50:50+00:00', 'source': '../data/pdf_files/Python Programming Introduction.pdf', 'total_pages': 1, 'page': 0, 'page_label': '1', 'source_file': 'Python Programming Introduction.pdf', 'file_type': 'pdf'}, page_content='Python Programming Introduction \\n \\nPython is a high-level, interpreted programming language known for its simplicity and \\nreadability. \\nCreated by Guido van Rossum and first released in 1991, Python has become one of the \\nmost popular \\nprogramming languages in the world. \\n \\nKey Features: \\n- Easy to learn and use \\n- Extensive standard library \\n- Cross-platform compatibility \\n- Strong community support \\n \\nPython is widely used in web development, data science, artificial intelligence, and \\nautomation.')]"
      ]
     },
     "execution_count": 8,
     "metadata": {},
     "output_type": "execute_result"
    }
   ],
   "source": [
    "chunks=split_documents(all_pdf_documents)\n",
    "chunks"
   ]
  },
  {
   "cell_type": "markdown",
   "id": "76516dbf",
   "metadata": {},
   "source": [
    "### Embedding And vectorStoreDB\n"
   ]
  },
  {
   "cell_type": "code",
   "execution_count": 9,
   "id": "a26983d9",
   "metadata": {},
   "outputs": [],
   "source": [
    "import numpy as np\n",
    "from sentence_transformers import SentenceTransformer\n",
    "import chromadb\n",
    "from chromadb.config import Settings\n",
    "import uuid\n",
    "from typing import List, Dict, Any, Tuple\n",
    "from sklearn.metrics.pairwise import cosine_similarity"
   ]
  },
  {
   "cell_type": "code",
   "execution_count": 10,
   "id": "9d1c06e2",
   "metadata": {},
   "outputs": [
    {
     "name": "stdout",
     "output_type": "stream",
     "text": [
      "Loading embedding model: all-MiniLM-L6-v2\n",
      "Model loaded successfully. Embedding dimension: 384\n"
     ]
    },
    {
     "data": {
      "text/plain": [
       "<__main__.EmbeddingManager at 0x11fbc7e00>"
      ]
     },
     "execution_count": 10,
     "metadata": {},
     "output_type": "execute_result"
    }
   ],
   "source": [
    "class EmbeddingManager:\n",
    "    \"\"\"Handles document embedding generation using SentenceTransformer\"\"\"\n",
    "    \n",
    "    def __init__(self, model_name: str = \"all-MiniLM-L6-v2\"):\n",
    "        \"\"\"\n",
    "        Initialize the embedding manager\n",
    "        \n",
    "        Args:\n",
    "            model_name: HuggingFace model name for sentence embeddings\n",
    "        \"\"\"\n",
    "        self.model_name = model_name\n",
    "        self.model = None\n",
    "        self._load_model()\n",
    "\n",
    "    def _load_model(self):\n",
    "        \"\"\"Load the SentenceTransformer model\"\"\"\n",
    "        try:\n",
    "            print(f\"Loading embedding model: {self.model_name}\")\n",
    "            self.model = SentenceTransformer(self.model_name)\n",
    "            print(f\"Model loaded successfully. Embedding dimension: {self.model.get_sentence_embedding_dimension()}\")\n",
    "        except Exception as e:\n",
    "            print(f\"Error loading model {self.model_name}: {e}\")\n",
    "            raise\n",
    "\n",
    "    def generate_embeddings(self, texts: List[str]) -> np.ndarray:\n",
    "        \"\"\"\n",
    "        Generate embeddings for a list of texts\n",
    "        \n",
    "        Args:\n",
    "            texts: List of text strings to embed\n",
    "            \n",
    "        Returns:\n",
    "            numpy array of embeddings with shape (len(texts), embedding_dim)\n",
    "        \"\"\"\n",
    "        if not self.model:\n",
    "            raise ValueError(\"Model not loaded\")\n",
    "        \n",
    "        print(f\"Generating embeddings for {len(texts)} texts...\")\n",
    "        embeddings = self.model.encode(texts, show_progress_bar=True)\n",
    "        print(f\"Generated embeddings with shape: {embeddings.shape}\")\n",
    "        return embeddings\n",
    "\n",
    "\n",
    "## initialize the embedding manager\n",
    "\n",
    "embedding_manager=EmbeddingManager()\n",
    "embedding_manager"
   ]
  },
  {
   "cell_type": "code",
   "execution_count": 11,
   "id": "fb8a16ff",
   "metadata": {},
   "outputs": [
    {
     "name": "stdout",
     "output_type": "stream",
     "text": [
      "Vector store initialized. Collection: pdf_documents\n",
      "Existing documents in collection: 0\n"
     ]
    },
    {
     "data": {
      "text/plain": [
       "<__main__.VectorStore at 0x12f35e270>"
      ]
     },
     "execution_count": 11,
     "metadata": {},
     "output_type": "execute_result"
    }
   ],
   "source": [
    "class VectorStore:\n",
    "    \"\"\"Manages document embeddings in a ChromaDB vector store\"\"\"\n",
    "    \n",
    "    def __init__(self, collection_name: str = \"pdf_documents\", persist_directory: str = \"../data/vector_store\"):\n",
    "        \"\"\"\n",
    "        Initialize the vector store\n",
    "        \n",
    "        Args:\n",
    "            collection_name: Name of the ChromaDB collection\n",
    "            persist_directory: Directory to persist the vector store\n",
    "        \"\"\"\n",
    "        self.collection_name = collection_name\n",
    "        self.persist_directory = persist_directory\n",
    "        self.client = None\n",
    "        self.collection = None\n",
    "        self._initialize_store()\n",
    "\n",
    "    def _initialize_store(self):\n",
    "        \"\"\"Initialize ChromaDB client and collection\"\"\"\n",
    "        try:\n",
    "            # Create persistent ChromaDB client\n",
    "            os.makedirs(self.persist_directory, exist_ok=True)\n",
    "            self.client = chromadb.PersistentClient(path=self.persist_directory)\n",
    "            \n",
    "            # Get or create collection\n",
    "            self.collection = self.client.get_or_create_collection(\n",
    "                name=self.collection_name,\n",
    "                metadata={\"description\": \"PDF document embeddings for RAG\"}\n",
    "            )\n",
    "            print(f\"Vector store initialized. Collection: {self.collection_name}\")\n",
    "            print(f\"Existing documents in collection: {self.collection.count()}\")\n",
    "            \n",
    "        except Exception as e:\n",
    "            print(f\"Error initializing vector store: {e}\")\n",
    "            raise\n",
    "\n",
    "    def add_documents(self, documents: List[Any], embeddings: np.ndarray):\n",
    "        \"\"\"\n",
    "        Add documents and their embeddings to the vector store\n",
    "        \n",
    "        Args:\n",
    "            documents: List of LangChain documents\n",
    "            embeddings: Corresponding embeddings for the documents\n",
    "        \"\"\"\n",
    "        if len(documents) != len(embeddings):\n",
    "            raise ValueError(\"Number of documents must match number of embeddings\")\n",
    "        \n",
    "        print(f\"Adding {len(documents)} documents to vector store...\")\n",
    "        \n",
    "        # Prepare data for ChromaDB\n",
    "        ids = []\n",
    "        metadatas = []\n",
    "        documents_text = []\n",
    "        embeddings_list = []\n",
    "        \n",
    "        for i, (doc, embedding) in enumerate(zip(documents, embeddings)):\n",
    "            # Generate unique ID\n",
    "            doc_id = f\"doc_{uuid.uuid4().hex[:8]}_{i}\"\n",
    "            ids.append(doc_id)\n",
    "            \n",
    "            # Prepare metadata\n",
    "            metadata = dict(doc.metadata)\n",
    "            metadata['doc_index'] = i\n",
    "            metadata['content_length'] = len(doc.page_content)\n",
    "            metadatas.append(metadata)\n",
    "            \n",
    "            # Document content\n",
    "            documents_text.append(doc.page_content)\n",
    "            \n",
    "            # Embedding\n",
    "            embeddings_list.append(embedding.tolist())\n",
    "        \n",
    "        # Add to collection\n",
    "        try:\n",
    "            self.collection.add(\n",
    "                ids=ids,\n",
    "                embeddings=embeddings_list,\n",
    "                metadatas=metadatas,\n",
    "                documents=documents_text\n",
    "            )\n",
    "            print(f\"Successfully added {len(documents)} documents to vector store\")\n",
    "            print(f\"Total documents in collection: {self.collection.count()}\")\n",
    "            \n",
    "        except Exception as e:\n",
    "            print(f\"Error adding documents to vector store: {e}\")\n",
    "            raise\n",
    "\n",
    "vectorstore=VectorStore()\n",
    "vectorstore"
   ]
  },
  {
   "cell_type": "code",
   "execution_count": 12,
   "id": "1de8cdb5",
   "metadata": {},
   "outputs": [
    {
     "data": {
      "text/plain": [
       "[Document(metadata={'producer': 'PyPDF', 'creator': 'Microsoft Word', 'creationdate': '2025-10-21T13:51:10+00:00', 'author': 'aayush', 'moddate': '2025-10-21T13:51:10+00:00', 'source': '../data/pdf_files/Machine Learning Basics.pdf', 'total_pages': 1, 'page': 0, 'page_label': '1', 'source_file': 'Machine Learning Basics.pdf', 'file_type': 'pdf'}, page_content='Machine Learning Basics \\n \\nMachine learning is a subset of artificial intelligence that enables systems to learn and \\nimprove \\nfrom experience without being explicitly programmed. It focuses on developing \\ncomputer programs \\nthat can access data and use it to learn for themselves. \\n \\nTypes of Machine Learning: \\n1. Supervised Learning: Learning with labeled data \\n2. Unsupervised Learning: Finding patterns in unlabeled data \\n3. Reinforcement Learning: Learning through rewards and penalties \\n \\nApplications include image recognition, speech processing, and recommendation \\nsystems.'),\n",
       " Document(metadata={'producer': 'PyPDF', 'creator': 'Microsoft Word', 'creationdate': '2025-10-21T13:50:50+00:00', 'author': 'aayush', 'moddate': '2025-10-21T13:50:50+00:00', 'source': '../data/pdf_files/Python Programming Introduction.pdf', 'total_pages': 1, 'page': 0, 'page_label': '1', 'source_file': 'Python Programming Introduction.pdf', 'file_type': 'pdf'}, page_content='Python Programming Introduction \\n \\nPython is a high-level, interpreted programming language known for its simplicity and \\nreadability. \\nCreated by Guido van Rossum and first released in 1991, Python has become one of the \\nmost popular \\nprogramming languages in the world. \\n \\nKey Features: \\n- Easy to learn and use \\n- Extensive standard library \\n- Cross-platform compatibility \\n- Strong community support \\n \\nPython is widely used in web development, data science, artificial intelligence, and \\nautomation.')]"
      ]
     },
     "execution_count": 12,
     "metadata": {},
     "output_type": "execute_result"
    }
   ],
   "source": [
    "chunks"
   ]
  },
  {
   "cell_type": "code",
   "execution_count": 13,
   "id": "e38c2703",
   "metadata": {},
   "outputs": [
    {
     "name": "stdout",
     "output_type": "stream",
     "text": [
      "Generating embeddings for 2 texts...\n"
     ]
    },
    {
     "name": "stderr",
     "output_type": "stream",
     "text": [
      "Batches: 100%|██████████| 1/1 [00:03<00:00,  3.28s/it]"
     ]
    },
    {
     "name": "stdout",
     "output_type": "stream",
     "text": [
      "Generated embeddings with shape: (2, 384)\n",
      "Adding 2 documents to vector store...\n",
      "Successfully added 2 documents to vector store\n",
      "Total documents in collection: 2\n"
     ]
    },
    {
     "name": "stderr",
     "output_type": "stream",
     "text": [
      "\n"
     ]
    }
   ],
   "source": [
    "### Convert the text to embeddings\n",
    "texts=[doc.page_content for doc in chunks]\n",
    "\n",
    "## Generate the Embeddings\n",
    "\n",
    "embeddings=embedding_manager.generate_embeddings(texts)\n",
    "\n",
    "##store int he vector dtaabase\n",
    "vectorstore.add_documents(chunks,embeddings)"
   ]
  },
  {
   "cell_type": "markdown",
   "id": "9229b15b",
   "metadata": {},
   "source": [
    "### Retriever Pipeline From VectorStore\n"
   ]
  },
  {
   "cell_type": "code",
   "execution_count": 16,
   "id": "8e812ca7",
   "metadata": {},
   "outputs": [
    {
     "data": {
      "text/plain": [
       "<__main__.RAGRetriever at 0x12f5bd6a0>"
      ]
     },
     "execution_count": 16,
     "metadata": {},
     "output_type": "execute_result"
    }
   ],
   "source": [
    "class RAGRetriever:\n",
    "    \"\"\"Handles query-based retrieval from the vector store\"\"\"\n",
    "    \n",
    "    def __init__(self, vector_store: VectorStore, embedding_manager: EmbeddingManager):\n",
    "        \"\"\"\n",
    "        Initialize the retriever\n",
    "        \n",
    "        Args:\n",
    "            vector_store: Vector store containing document embeddings\n",
    "            embedding_manager: Manager for generating query embeddings\n",
    "        \"\"\"\n",
    "        self.vector_store = vector_store\n",
    "        self.embedding_manager = embedding_manager\n",
    "\n",
    "    def retrieve(self, query: str, top_k: int = 5, score_threshold: float = 0.0) -> List[Dict[str, Any]]:\n",
    "        \"\"\"\n",
    "        Retrieve relevant documents for a query\n",
    "        \n",
    "        Args:\n",
    "            query: The search query\n",
    "            top_k: Number of top results to return\n",
    "            score_threshold: Minimum similarity score threshold\n",
    "            \n",
    "        Returns:\n",
    "            List of dictionaries containing retrieved documents and metadata\n",
    "        \"\"\"\n",
    "        print(f\"Retrieving documents for query: '{query}'\")\n",
    "        print(f\"Top K: {top_k}, Score threshold: {score_threshold}\")\n",
    "        \n",
    "        # Generate query embedding\n",
    "        query_embedding = self.embedding_manager.generate_embeddings([query])[0]\n",
    "        \n",
    "        # Search in vector store\n",
    "        try:\n",
    "            results = self.vector_store.collection.query(\n",
    "                query_embeddings=[query_embedding.tolist()],\n",
    "                n_results=top_k\n",
    "            )\n",
    "            \n",
    "            # Process results\n",
    "            retrieved_docs = []\n",
    "            \n",
    "            if results['documents'] and results['documents'][0]:\n",
    "                documents = results['documents'][0]\n",
    "                metadatas = results['metadatas'][0]\n",
    "                distances = results['distances'][0]\n",
    "                ids = results['ids'][0]\n",
    "                \n",
    "                for i, (doc_id, document, metadata, distance) in enumerate(zip(ids, documents, metadatas, distances)):\n",
    "                    # Convert distance to similarity score (ChromaDB uses cosine distance)\n",
    "                    similarity_score = 1 - distance\n",
    "                    \n",
    "                    if similarity_score >= score_threshold:\n",
    "                        retrieved_docs.append({\n",
    "                            'id': doc_id,\n",
    "                            'content': document,\n",
    "                            'metadata': metadata,\n",
    "                            'similarity_score': similarity_score,\n",
    "                            'distance': distance,\n",
    "                            'rank': i + 1\n",
    "                        })\n",
    "                \n",
    "                print(f\"Retrieved {len(retrieved_docs)} documents (after filtering)\")\n",
    "            else:\n",
    "                print(\"No documents found\")\n",
    "            \n",
    "            return retrieved_docs\n",
    "            \n",
    "        except Exception as e:\n",
    "            print(f\"Error during retrieval: {e}\")\n",
    "            return []\n",
    "\n",
    "rag_retriever=RAGRetriever(vectorstore,embedding_manager)\n",
    "rag_retriever"
   ]
  },
  {
   "cell_type": "code",
   "execution_count": 17,
   "id": "cf0ac531",
   "metadata": {},
   "outputs": [
    {
     "name": "stdout",
     "output_type": "stream",
     "text": [
      "Retrieving documents for query: 'What are types of Machine Learning?'\n",
      "Top K: 5, Score threshold: 0.0\n",
      "Generating embeddings for 1 texts...\n"
     ]
    },
    {
     "name": "stderr",
     "output_type": "stream",
     "text": [
      "Batches: 100%|██████████| 1/1 [00:02<00:00,  2.77s/it]"
     ]
    },
    {
     "name": "stdout",
     "output_type": "stream",
     "text": [
      "Generated embeddings with shape: (1, 384)\n",
      "Retrieved 1 documents (after filtering)\n"
     ]
    },
    {
     "name": "stderr",
     "output_type": "stream",
     "text": [
      "\n"
     ]
    },
    {
     "data": {
      "text/plain": [
       "[{'id': 'doc_8d335dc9_0',\n",
       "  'content': 'Machine Learning Basics \\n \\nMachine learning is a subset of artificial intelligence that enables systems to learn and \\nimprove \\nfrom experience without being explicitly programmed. It focuses on developing \\ncomputer programs \\nthat can access data and use it to learn for themselves. \\n \\nTypes of Machine Learning: \\n1. Supervised Learning: Learning with labeled data \\n2. Unsupervised Learning: Finding patterns in unlabeled data \\n3. Reinforcement Learning: Learning through rewards and penalties \\n \\nApplications include image recognition, speech processing, and recommendation \\nsystems.',\n",
       "  'metadata': {'moddate': '2025-10-21T13:51:10+00:00',\n",
       "   'creator': 'Microsoft Word',\n",
       "   'file_type': 'pdf',\n",
       "   'page': 0,\n",
       "   'source_file': 'Machine Learning Basics.pdf',\n",
       "   'content_length': 583,\n",
       "   'total_pages': 1,\n",
       "   'producer': 'PyPDF',\n",
       "   'author': 'aayush',\n",
       "   'doc_index': 0,\n",
       "   'creationdate': '2025-10-21T13:51:10+00:00',\n",
       "   'source': '../data/pdf_files/Machine Learning Basics.pdf',\n",
       "   'page_label': '1'},\n",
       "  'similarity_score': 0.5289221107959747,\n",
       "  'distance': 0.47107788920402527,\n",
       "  'rank': 1}]"
      ]
     },
     "execution_count": 17,
     "metadata": {},
     "output_type": "execute_result"
    }
   ],
   "source": [
    "rag_retriever.retrieve(\"What are types of Machine Learning?\")"
   ]
  },
  {
   "cell_type": "code",
   "execution_count": 18,
   "id": "cad7206c",
   "metadata": {},
   "outputs": [
    {
     "name": "stdout",
     "output_type": "stream",
     "text": [
      "Retrieving documents for query: 'What are key features of Python?'\n",
      "Top K: 5, Score threshold: 0.0\n",
      "Generating embeddings for 1 texts...\n"
     ]
    },
    {
     "name": "stderr",
     "output_type": "stream",
     "text": [
      "Batches: 100%|██████████| 1/1 [00:00<00:00,  2.32it/s]"
     ]
    },
    {
     "name": "stdout",
     "output_type": "stream",
     "text": [
      "Generated embeddings with shape: (1, 384)\n",
      "Retrieved 1 documents (after filtering)\n"
     ]
    },
    {
     "name": "stderr",
     "output_type": "stream",
     "text": [
      "\n"
     ]
    },
    {
     "data": {
      "text/plain": [
       "[{'id': 'doc_3dce3479_1',\n",
       "  'content': 'Python Programming Introduction \\n \\nPython is a high-level, interpreted programming language known for its simplicity and \\nreadability. \\nCreated by Guido van Rossum and first released in 1991, Python has become one of the \\nmost popular \\nprogramming languages in the world. \\n \\nKey Features: \\n- Easy to learn and use \\n- Extensive standard library \\n- Cross-platform compatibility \\n- Strong community support \\n \\nPython is widely used in web development, data science, artificial intelligence, and \\nautomation.',\n",
       "  'metadata': {'page_label': '1',\n",
       "   'file_type': 'pdf',\n",
       "   'author': 'aayush',\n",
       "   'total_pages': 1,\n",
       "   'source': '../data/pdf_files/Python Programming Introduction.pdf',\n",
       "   'producer': 'PyPDF',\n",
       "   'creationdate': '2025-10-21T13:50:50+00:00',\n",
       "   'creator': 'Microsoft Word',\n",
       "   'moddate': '2025-10-21T13:50:50+00:00',\n",
       "   'content_length': 504,\n",
       "   'source_file': 'Python Programming Introduction.pdf',\n",
       "   'page': 0,\n",
       "   'doc_index': 1},\n",
       "  'similarity_score': 0.2899280786514282,\n",
       "  'distance': 0.7100719213485718,\n",
       "  'rank': 1}]"
      ]
     },
     "execution_count": 18,
     "metadata": {},
     "output_type": "execute_result"
    }
   ],
   "source": [
    "rag_retriever.retrieve(\"What are key features of Python?\")"
   ]
  },
  {
   "cell_type": "markdown",
   "id": "4dd3d32d",
   "metadata": {},
   "source": [
    "### Integration Vectordb Context pipeline With LLM output"
   ]
  },
  {
   "cell_type": "code",
   "execution_count": 35,
   "id": "2eef3811",
   "metadata": {},
   "outputs": [],
   "source": [
    "### Simple RAG pipeline with Groq LLM\n",
    "from langchain_groq import ChatGroq\n",
    "import os\n",
    "from dotenv import load_dotenv\n",
    "load_dotenv()\n",
    "\n",
    "### Initialize the Groq LLM (set your GROQ_API_KEY in environment)\n",
    "groq_api_key = os.getenv(\"GROQ_API_KEY\")\n",
    "\n",
    "llm=ChatGroq(groq_api_key=groq_api_key,model_name=\"llama-3.1-8b-instant\",temperature=0.1,max_tokens=1024)\n",
    "\n",
    "## 2. Simple RAG function: retrieve context + generate response\n",
    "def rag_simple(query,retriever,llm,top_k=3):\n",
    "    ## retriever the context\n",
    "    results=retriever.retrieve(query,top_k=top_k)\n",
    "    context=\"\\n\\n\".join([doc['content'] for doc in results]) if results else \"\"\n",
    "    if not context:\n",
    "        return \"No relevant context found to answer the question.\"\n",
    "    \n",
    "    ## generate the answwer using GROQ LLM\n",
    "    prompt=f\"\"\"Use the following context to answer the question concisely.\n",
    "        Context:\n",
    "        {context}\n",
    "\n",
    "        Question: {query}\n",
    "\n",
    "        Answer:\"\"\"\n",
    "    \n",
    "    response=llm.invoke([prompt.format(context=context,query=query)])\n",
    "    return response.content"
   ]
  },
  {
   "cell_type": "code",
   "execution_count": 36,
   "id": "9c8fbf0c",
   "metadata": {},
   "outputs": [
    {
     "name": "stdout",
     "output_type": "stream",
     "text": [
      "Retrieving documents for query: 'What is Machine Learning?'\n",
      "Top K: 3, Score threshold: 0.0\n",
      "Generating embeddings for 1 texts...\n"
     ]
    },
    {
     "name": "stderr",
     "output_type": "stream",
     "text": [
      "Batches: 100%|██████████| 1/1 [00:00<00:00,  2.63it/s]\n"
     ]
    },
    {
     "name": "stdout",
     "output_type": "stream",
     "text": [
      "Generated embeddings with shape: (1, 384)\n",
      "Retrieved 1 documents (after filtering)\n",
      "Machine Learning is a subset of artificial intelligence that enables systems to learn and improve from experience without being explicitly programmed.\n"
     ]
    }
   ],
   "source": [
    "answer=rag_simple(\"What is Machine Learning?\",rag_retriever,llm)\n",
    "print(answer)"
   ]
  },
  {
   "cell_type": "markdown",
   "id": "e0edbb4d",
   "metadata": {},
   "source": [
    "### Enhanced RAG Pipeline Features"
   ]
  },
  {
   "cell_type": "code",
   "execution_count": 37,
   "id": "42bd1f26",
   "metadata": {},
   "outputs": [
    {
     "name": "stdout",
     "output_type": "stream",
     "text": [
      "Retrieving documents for query: 'Types of Machine learning'\n",
      "Top K: 3, Score threshold: 0.1\n",
      "Generating embeddings for 1 texts...\n"
     ]
    },
    {
     "name": "stderr",
     "output_type": "stream",
     "text": [
      "Batches: 100%|██████████| 1/1 [00:01<00:00,  1.22s/it]\n",
      "\n"
     ]
    },
    {
     "name": "stdout",
     "output_type": "stream",
     "text": [
      "Generated embeddings with shape: (1, 384)\n",
      "Retrieved 1 documents (after filtering)\n",
      "Answer: There are three main types of machine learning:\n",
      "\n",
      "1. Supervised Learning\n",
      "2. Unsupervised Learning\n",
      "3. Reinforcement Learning\n",
      "Sources: [{'source': 'Machine Learning Basics.pdf', 'page': 0, 'score': 0.5012401044368744, 'preview': 'Machine Learning Basics \\n \\nMachine learning is a subset of artificial intelligence that enables systems to learn and \\nimprove \\nfrom experience without being explicitly programmed. It focuses on developing \\ncomputer programs \\nthat can access data and use it to learn for themselves. \\n \\nTypes of Machin...'}]\n",
      "Confidence: 0.5012401044368744\n",
      "Context Preview: Machine Learning Basics \n",
      " \n",
      "Machine learning is a subset of artificial intelligence that enables systems to learn and \n",
      "improve \n",
      "from experience without being explicitly programmed. It focuses on developing \n",
      "computer programs \n",
      "that can access data and use it to learn for themselves. \n",
      " \n",
      "Types of Machin\n",
      "Answer: There are three main types of machine learning:\n",
      "\n",
      "1. Supervised Learning\n",
      "2. Unsupervised Learning\n",
      "3. Reinforcement Learning\n",
      "Sources: [{'source': 'Machine Learning Basics.pdf', 'page': 0, 'score': 0.5012401044368744, 'preview': 'Machine Learning Basics \\n \\nMachine learning is a subset of artificial intelligence that enables systems to learn and \\nimprove \\nfrom experience without being explicitly programmed. It focuses on developing \\ncomputer programs \\nthat can access data and use it to learn for themselves. \\n \\nTypes of Machin...'}]\n",
      "Confidence: 0.5012401044368744\n",
      "Context Preview: Machine Learning Basics \n",
      " \n",
      "Machine learning is a subset of artificial intelligence that enables systems to learn and \n",
      "improve \n",
      "from experience without being explicitly programmed. It focuses on developing \n",
      "computer programs \n",
      "that can access data and use it to learn for themselves. \n",
      " \n",
      "Types of Machin\n"
     ]
    }
   ],
   "source": [
    "# --- Enhanced RAG Pipeline Features ---\n",
    "def rag_advanced(query, retriever, llm, top_k=5, min_score=0.2, return_context=False):\n",
    "    \"\"\"\n",
    "    RAG pipeline with extra features:\n",
    "    - Returns answer, sources, confidence score, and optionally full context.\n",
    "    \"\"\"\n",
    "    results = retriever.retrieve(query, top_k=top_k, score_threshold=min_score)\n",
    "    if not results:\n",
    "        return {'answer': 'No relevant context found.', 'sources': [], 'confidence': 0.0, 'context': ''}\n",
    "    \n",
    "    # Prepare context and sources\n",
    "    context = \"\\n\\n\".join([doc['content'] for doc in results])\n",
    "    sources = [{\n",
    "        'source': doc['metadata'].get('source_file', doc['metadata'].get('source', 'unknown')),\n",
    "        'page': doc['metadata'].get('page', 'unknown'),\n",
    "        'score': doc['similarity_score'],\n",
    "        'preview': doc['content'][:300] + '...'\n",
    "    } for doc in results]\n",
    "    confidence = max([doc['similarity_score'] for doc in results])\n",
    "    \n",
    "    # Generate answer\n",
    "    prompt = f\"\"\"Use the following context to answer the question concisely.\\nContext:\\n{context}\\n\\nQuestion: {query}\\n\\nAnswer:\"\"\"\n",
    "    response = llm.invoke([prompt.format(context=context, query=query)])\n",
    "    \n",
    "    output = {\n",
    "        'answer': response.content,\n",
    "        'sources': sources,\n",
    "        'confidence': confidence\n",
    "    }\n",
    "    if return_context:\n",
    "        output['context'] = context\n",
    "    return output\n",
    "\n",
    "# Example usage:\n",
    "result = rag_advanced(\"Types of Machine learning\", rag_retriever, llm, top_k=3, min_score=0.1, return_context=True)\n",
    "print(\"Answer:\", result['answer'])\n",
    "print(\"Sources:\", result['sources'])\n",
    "print(\"Confidence:\", result['confidence'])\n",
    "print(\"Context Preview:\", result['context'][:300])"
   ]
  },
  {
   "cell_type": "code",
   "execution_count": 39,
   "id": "535a4402",
   "metadata": {},
   "outputs": [
    {
     "name": "stdout",
     "output_type": "stream",
     "text": [
      "Retrieving documents for query: 'what is machine learning'\n",
      "Top K: 3, Score threshold: 0.1\n",
      "Generating embeddings for 1 texts...\n"
     ]
    },
    {
     "name": "stderr",
     "output_type": "stream",
     "text": [
      "Batches: 100%|██████████| 1/1 [00:00<00:00,  2.43it/s]"
     ]
    },
    {
     "name": "stdout",
     "output_type": "stream",
     "text": [
      "Generated embeddings with shape: (1, 384)\n",
      "Retrieved 1 documents (after filtering)\n",
      "Streaming answer:\n",
      "Use the following context to answer the question concisely.\n",
      "Context:\n",
      "Machine Learning Basics \n",
      " \n",
      "Machine learning is a subset of artificial intelligence that enarning Basics \n",
      " \n",
      "Machine learning is a subset of artificial intelligence that enables systems to learn and \n",
      "improve \n",
      "from experience without being explicitly probles systems to learn and \n",
      "improve \n",
      "from experience without being explicitly programmed. It focuses on developing \n",
      "computer programs \n",
      "that can access data and ugrammed. It focuses on developing \n",
      "computer programs \n",
      "that can access data and u"
     ]
    },
    {
     "name": "stderr",
     "output_type": "stream",
     "text": [
      "\n"
     ]
    },
    {
     "name": "stdout",
     "output_type": "stream",
     "text": [
      "se it to learn for themselves. \n",
      " \n",
      "Types of Machine Learning: \n",
      "1. Supervised Learning: Learning with labeled data \n",
      "2. Unsupervised Learning: Finding patterns in ning: Learning with labeled data \n",
      "2. Unsupervised Learning: Finding patterns in unlabeled data \n",
      "3. Reinforcement Learning: Learning through rewards and penaltieunlabeled data \n",
      "3. Reinforcement Learning: Learning through rewards and penalties \n",
      " \n",
      "Applications include image recognition, speech processing, and recommendatis \n",
      " \n",
      "Applications include image recognition, speech processing, and recommendation \n",
      "systems.\n",
      "\n",
      "Question: what is machine learning\n",
      "\n",
      "Answer:on \n",
      "systems.\n",
      "\n",
      "Question: what is machine learning\n",
      "\n",
      "Answer:\n",
      "\n",
      "\n",
      "Final Answer: Machine learning is a subset of artificial intelligence that enables systems to learn and improve from experience without being explicitly programmed.\n",
      "\n",
      "Citations:\n",
      "[1] Machine Learning Basics.pdf (page 0)\n",
      "Summary: Machine learning is a subset of artificial intelligence that allows systems to learn and improve from experience. This is achieved without the need for explicit programming, enabling the system to adapt and become more accurate over time.\n",
      "History: {'question': 'what is machine learning', 'answer': 'Machine learning is a subset of artificial intelligence that enables systems to learn and improve from experience without being explicitly programmed.', 'sources': [{'source': 'Machine Learning Basics.pdf', 'page': 0, 'score': 0.5224056243896484, 'preview': 'Machine Learning Basics \\n \\nMachine learning is a subset of artificial intelligence that enables systems to learn and \\nim...'}], 'summary': 'Machine learning is a subset of artificial intelligence that allows systems to learn and improve from experience. This is achieved without the need for explicit programming, enabling the system to adapt and become more accurate over time.'}\n",
      "\n",
      "Final Answer: Machine learning is a subset of artificial intelligence that enables systems to learn and improve from experience without being explicitly programmed.\n",
      "\n",
      "Citations:\n",
      "[1] Machine Learning Basics.pdf (page 0)\n",
      "Summary: Machine learning is a subset of artificial intelligence that allows systems to learn and improve from experience. This is achieved without the need for explicit programming, enabling the system to adapt and become more accurate over time.\n",
      "History: {'question': 'what is machine learning', 'answer': 'Machine learning is a subset of artificial intelligence that enables systems to learn and improve from experience without being explicitly programmed.', 'sources': [{'source': 'Machine Learning Basics.pdf', 'page': 0, 'score': 0.5224056243896484, 'preview': 'Machine Learning Basics \\n \\nMachine learning is a subset of artificial intelligence that enables systems to learn and \\nim...'}], 'summary': 'Machine learning is a subset of artificial intelligence that allows systems to learn and improve from experience. This is achieved without the need for explicit programming, enabling the system to adapt and become more accurate over time.'}\n"
     ]
    }
   ],
   "source": [
    "# --- Advanced RAG Pipeline: Streaming, Citations, History, Summarization ---\n",
    "from typing import List, Dict, Any\n",
    "import time\n",
    "\n",
    "class AdvancedRAGPipeline:\n",
    "    def __init__(self, retriever, llm):\n",
    "        self.retriever = retriever\n",
    "        self.llm = llm\n",
    "        self.history = []  # Store query history\n",
    "\n",
    "    def query(self, question: str, top_k: int = 5, min_score: float = 0.2, stream: bool = False, summarize: bool = False) -> Dict[str, Any]:\n",
    "        # Retrieve relevant documents\n",
    "        results = self.retriever.retrieve(question, top_k=top_k, score_threshold=min_score)\n",
    "        if not results:\n",
    "            answer = \"No relevant context found.\"\n",
    "            sources = []\n",
    "            context = \"\"\n",
    "        else:\n",
    "            context = \"\\n\\n\".join([doc['content'] for doc in results])\n",
    "            sources = [{\n",
    "                'source': doc['metadata'].get('source_file', doc['metadata'].get('source', 'unknown')),\n",
    "                'page': doc['metadata'].get('page', 'unknown'),\n",
    "                'score': doc['similarity_score'],\n",
    "                'preview': doc['content'][:120] + '...'\n",
    "            } for doc in results]\n",
    "            # Streaming answer simulation\n",
    "            prompt = f\"\"\"Use the following context to answer the question concisely.\\nContext:\\n{context}\\n\\nQuestion: {question}\\n\\nAnswer:\"\"\"\n",
    "            if stream:\n",
    "                print(\"Streaming answer:\")\n",
    "                for i in range(0, len(prompt), 80):\n",
    "                    print(prompt[i:i+80], end='', flush=True)\n",
    "                    time.sleep(0.05)\n",
    "                print()\n",
    "            response = self.llm.invoke([prompt.format(context=context, question=question)])\n",
    "            answer = response.content\n",
    "\n",
    "        # Add citations to answer\n",
    "        citations = [f\"[{i+1}] {src['source']} (page {src['page']})\" for i, src in enumerate(sources)]\n",
    "        answer_with_citations = answer + \"\\n\\nCitations:\\n\" + \"\\n\".join(citations) if citations else answer\n",
    "\n",
    "        # Optionally summarize answer\n",
    "        summary = None\n",
    "        if summarize and answer:\n",
    "            summary_prompt = f\"Summarize the following answer in 2 sentences:\\n{answer}\"\n",
    "            summary_resp = self.llm.invoke([summary_prompt])\n",
    "            summary = summary_resp.content\n",
    "\n",
    "        # Store query history\n",
    "        self.history.append({\n",
    "            'question': question,\n",
    "            'answer': answer,\n",
    "            'sources': sources,\n",
    "            'summary': summary\n",
    "        })\n",
    "\n",
    "        return {\n",
    "            'question': question,\n",
    "            'answer': answer_with_citations,\n",
    "            'sources': sources,\n",
    "            'summary': summary,\n",
    "            'history': self.history\n",
    "        }\n",
    "\n",
    "# Example usage:\n",
    "adv_rag = AdvancedRAGPipeline(rag_retriever, llm)\n",
    "result = adv_rag.query(\"what is machine learning\", top_k=3, min_score=0.1, stream=True, summarize=True)\n",
    "print(\"\\nFinal Answer:\", result['answer'])\n",
    "print(\"Summary:\", result['summary'])\n",
    "print(\"History:\", result['history'][-1])"
   ]
  }
 ],
 "metadata": {
  "kernelspec": {
   "display_name": "langchain-rag",
   "language": "python",
   "name": "python3"
  },
  "language_info": {
   "codemirror_mode": {
    "name": "ipython",
    "version": 3
   },
   "file_extension": ".py",
   "mimetype": "text/x-python",
   "name": "python",
   "nbconvert_exporter": "python",
   "pygments_lexer": "ipython3",
   "version": "3.14.0"
  }
 },
 "nbformat": 4,
 "nbformat_minor": 5
}
