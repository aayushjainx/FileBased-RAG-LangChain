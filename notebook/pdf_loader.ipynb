{
 "cells": [
  {
   "cell_type": "markdown",
   "id": "9a196ba5",
   "metadata": {},
   "source": [
    "## RAG Pipelines- Data Ingestion to Vector DB Pipeline"
   ]
  },
  {
   "cell_type": "code",
   "execution_count": 4,
   "id": "7ade0060",
   "metadata": {},
   "outputs": [],
   "source": [
    "import os\n",
    "from langchain_community.document_loaders import PyPDFLoader, PyMuPDFLoader\n",
    "from langchain_text_splitters import RecursiveCharacterTextSplitter\n",
    "from pathlib import Path"
   ]
  },
  {
   "cell_type": "code",
   "execution_count": 5,
   "id": "9c234954",
   "metadata": {},
   "outputs": [
    {
     "name": "stdout",
     "output_type": "stream",
     "text": [
      "Found 2 PDF files to process\n",
      "\n",
      "Processing: Machine Learning Basics.pdf\n",
      "✓ Loaded 1 pages\n",
      "\n",
      "Processing: Python Programming Introduction.pdf\n",
      "✓ Loaded 1 pages\n",
      "\n",
      "Total documents loaded: 2\n"
     ]
    }
   ],
   "source": [
    "### Read all the pdf's inside the directory\n",
    "def process_all_pdfs(pdf_directory):\n",
    "  \"\"\"Process all PDF files in a directory\"\"\"\n",
    "  all_documents = []\n",
    "  pdf_dir = Path(pdf_directory)\n",
    "  # Find all PDF files recursively\n",
    "  pdf_files = list(pdf_dir.glob(\"**/*.pdf\"))\n",
    "    \n",
    "  print(f\"Found {len(pdf_files)} PDF files to process\")\n",
    "\n",
    "  for pdf_file in pdf_files:\n",
    "    print(f\"\\nProcessing: {pdf_file.name}\")\n",
    "    try:\n",
    "      loader = PyPDFLoader(str(pdf_file))\n",
    "      documents = loader.load()\n",
    "      \n",
    "      # Add source information to metadata\n",
    "      for doc in documents:\n",
    "          doc.metadata['source_file'] = pdf_file.name\n",
    "          doc.metadata['file_type'] = 'pdf'\n",
    "      \n",
    "      all_documents.extend(documents)\n",
    "      print(f\"✓ Loaded {len(documents)} pages\")\n",
    "        \n",
    "    except Exception as e:\n",
    "      print(f\"✗ Error: {e}\")\n",
    "\n",
    "  print(f\"\\nTotal documents loaded: {len(all_documents)}\")\n",
    "  return all_documents\n",
    "\n",
    "# Process all PDFs in the data directory\n",
    "all_pdf_documents = process_all_pdfs(\"../data\")"
   ]
  },
  {
   "cell_type": "code",
   "execution_count": 6,
   "id": "52d66839",
   "metadata": {},
   "outputs": [
    {
     "data": {
      "text/plain": [
       "[Document(metadata={'producer': 'PyPDF', 'creator': 'Microsoft Word', 'creationdate': '2025-10-21T13:51:10+00:00', 'author': 'aayush', 'moddate': '2025-10-21T13:51:10+00:00', 'source': '../data/pdf_files/Machine Learning Basics.pdf', 'total_pages': 1, 'page': 0, 'page_label': '1', 'source_file': 'Machine Learning Basics.pdf', 'file_type': 'pdf'}, page_content='Machine Learning Basics \\n \\nMachine learning is a subset of artificial intelligence that enables systems to learn and \\nimprove \\nfrom experience without being explicitly programmed. It focuses on developing \\ncomputer programs \\nthat can access data and use it to learn for themselves. \\n \\nTypes of Machine Learning: \\n1. Supervised Learning: Learning with labeled data \\n2. Unsupervised Learning: Finding patterns in unlabeled data \\n3. Reinforcement Learning: Learning through rewards and penalties \\n \\nApplications include image recognition, speech processing, and recommendation \\nsystems.'),\n",
       " Document(metadata={'producer': 'PyPDF', 'creator': 'Microsoft Word', 'creationdate': '2025-10-21T13:50:50+00:00', 'author': 'aayush', 'moddate': '2025-10-21T13:50:50+00:00', 'source': '../data/pdf_files/Python Programming Introduction.pdf', 'total_pages': 1, 'page': 0, 'page_label': '1', 'source_file': 'Python Programming Introduction.pdf', 'file_type': 'pdf'}, page_content='Python Programming Introduction \\n \\nPython is a high-level, interpreted programming language known for its simplicity and \\nreadability. \\nCreated by Guido van Rossum and first released in 1991, Python has become one of the \\nmost popular \\nprogramming languages in the world. \\n \\nKey Features: \\n- Easy to learn and use \\n- Extensive standard library \\n- Cross-platform compatibility \\n- Strong community support \\n \\nPython is widely used in web development, data science, artificial intelligence, and \\nautomation.')]"
      ]
     },
     "execution_count": 6,
     "metadata": {},
     "output_type": "execute_result"
    }
   ],
   "source": [
    "all_pdf_documents"
   ]
  },
  {
   "cell_type": "code",
   "execution_count": 7,
   "id": "85907e95",
   "metadata": {},
   "outputs": [],
   "source": [
    "### Text splitting get into chunks\n",
    "\n",
    "def split_documents(documents, chunk_size = 1000, chunk_overlap = 200):\n",
    "  \"\"\"Split documents into smaller chunks for better RAG performance\"\"\"\n",
    "  text_splitter = RecursiveCharacterTextSplitter(\n",
    "      chunk_size = chunk_size,\n",
    "      chunk_overlap = chunk_overlap,\n",
    "      length_function = len,\n",
    "      separators = [\"\\n\\n\", \"\\n\", \" \", \"\"]\n",
    "  )\n",
    "  split_docs = text_splitter.split_documents(documents)\n",
    "  print(f\"Split {len(documents)} documents into {len(split_docs)} chunks\")\n",
    "  \n",
    "  # Show example of a chunk\n",
    "  if split_docs:\n",
    "      print(f\"\\nExample chunk:\")\n",
    "      print(f\"Content: {split_docs[0].page_content[:200]}...\")\n",
    "      print(f\"Metadata: {split_docs[0].metadata}\")\n",
    "  \n",
    "  return split_docs"
   ]
  },
  {
   "cell_type": "code",
   "execution_count": 8,
   "id": "f1d0988a",
   "metadata": {},
   "outputs": [
    {
     "name": "stdout",
     "output_type": "stream",
     "text": [
      "Split 2 documents into 2 chunks\n",
      "\n",
      "Example chunk:\n",
      "Content: Machine Learning Basics \n",
      " \n",
      "Machine learning is a subset of artificial intelligence that enables systems to learn and \n",
      "improve \n",
      "from experience without being explicitly programmed. It focuses on develo...\n",
      "Metadata: {'producer': 'PyPDF', 'creator': 'Microsoft Word', 'creationdate': '2025-10-21T13:51:10+00:00', 'author': 'aayush', 'moddate': '2025-10-21T13:51:10+00:00', 'source': '../data/pdf_files/Machine Learning Basics.pdf', 'total_pages': 1, 'page': 0, 'page_label': '1', 'source_file': 'Machine Learning Basics.pdf', 'file_type': 'pdf'}\n"
     ]
    },
    {
     "data": {
      "text/plain": [
       "[Document(metadata={'producer': 'PyPDF', 'creator': 'Microsoft Word', 'creationdate': '2025-10-21T13:51:10+00:00', 'author': 'aayush', 'moddate': '2025-10-21T13:51:10+00:00', 'source': '../data/pdf_files/Machine Learning Basics.pdf', 'total_pages': 1, 'page': 0, 'page_label': '1', 'source_file': 'Machine Learning Basics.pdf', 'file_type': 'pdf'}, page_content='Machine Learning Basics \\n \\nMachine learning is a subset of artificial intelligence that enables systems to learn and \\nimprove \\nfrom experience without being explicitly programmed. It focuses on developing \\ncomputer programs \\nthat can access data and use it to learn for themselves. \\n \\nTypes of Machine Learning: \\n1. Supervised Learning: Learning with labeled data \\n2. Unsupervised Learning: Finding patterns in unlabeled data \\n3. Reinforcement Learning: Learning through rewards and penalties \\n \\nApplications include image recognition, speech processing, and recommendation \\nsystems.'),\n",
       " Document(metadata={'producer': 'PyPDF', 'creator': 'Microsoft Word', 'creationdate': '2025-10-21T13:50:50+00:00', 'author': 'aayush', 'moddate': '2025-10-21T13:50:50+00:00', 'source': '../data/pdf_files/Python Programming Introduction.pdf', 'total_pages': 1, 'page': 0, 'page_label': '1', 'source_file': 'Python Programming Introduction.pdf', 'file_type': 'pdf'}, page_content='Python Programming Introduction \\n \\nPython is a high-level, interpreted programming language known for its simplicity and \\nreadability. \\nCreated by Guido van Rossum and first released in 1991, Python has become one of the \\nmost popular \\nprogramming languages in the world. \\n \\nKey Features: \\n- Easy to learn and use \\n- Extensive standard library \\n- Cross-platform compatibility \\n- Strong community support \\n \\nPython is widely used in web development, data science, artificial intelligence, and \\nautomation.')]"
      ]
     },
     "execution_count": 8,
     "metadata": {},
     "output_type": "execute_result"
    }
   ],
   "source": [
    "chunks=split_documents(all_pdf_documents)\n",
    "chunks"
   ]
  },
  {
   "cell_type": "markdown",
   "id": "76516dbf",
   "metadata": {},
   "source": [
    "### Embedding And vectorStoreDB\n"
   ]
  },
  {
   "cell_type": "code",
   "execution_count": 9,
   "id": "a26983d9",
   "metadata": {},
   "outputs": [],
   "source": [
    "import numpy as np\n",
    "from sentence_transformers import SentenceTransformer\n",
    "import chromadb\n",
    "from chromadb.config import Settings\n",
    "import uuid\n",
    "from typing import List, Dict, Any, Tuple\n",
    "from sklearn.metrics.pairwise import cosine_similarity"
   ]
  },
  {
   "cell_type": "code",
   "execution_count": 10,
   "id": "9d1c06e2",
   "metadata": {},
   "outputs": [
    {
     "name": "stdout",
     "output_type": "stream",
     "text": [
      "Loading embedding model: all-MiniLM-L6-v2\n",
      "Model loaded successfully. Embedding dimension: 384\n"
     ]
    },
    {
     "data": {
      "text/plain": [
       "<__main__.EmbeddingManager at 0x11fbc7e00>"
      ]
     },
     "execution_count": 10,
     "metadata": {},
     "output_type": "execute_result"
    }
   ],
   "source": [
    "class EmbeddingManager:\n",
    "    \"\"\"Handles document embedding generation using SentenceTransformer\"\"\"\n",
    "    \n",
    "    def __init__(self, model_name: str = \"all-MiniLM-L6-v2\"):\n",
    "        \"\"\"\n",
    "        Initialize the embedding manager\n",
    "        \n",
    "        Args:\n",
    "            model_name: HuggingFace model name for sentence embeddings\n",
    "        \"\"\"\n",
    "        self.model_name = model_name\n",
    "        self.model = None\n",
    "        self._load_model()\n",
    "\n",
    "    def _load_model(self):\n",
    "        \"\"\"Load the SentenceTransformer model\"\"\"\n",
    "        try:\n",
    "            print(f\"Loading embedding model: {self.model_name}\")\n",
    "            self.model = SentenceTransformer(self.model_name)\n",
    "            print(f\"Model loaded successfully. Embedding dimension: {self.model.get_sentence_embedding_dimension()}\")\n",
    "        except Exception as e:\n",
    "            print(f\"Error loading model {self.model_name}: {e}\")\n",
    "            raise\n",
    "\n",
    "    def generate_embeddings(self, texts: List[str]) -> np.ndarray:\n",
    "        \"\"\"\n",
    "        Generate embeddings for a list of texts\n",
    "        \n",
    "        Args:\n",
    "            texts: List of text strings to embed\n",
    "            \n",
    "        Returns:\n",
    "            numpy array of embeddings with shape (len(texts), embedding_dim)\n",
    "        \"\"\"\n",
    "        if not self.model:\n",
    "            raise ValueError(\"Model not loaded\")\n",
    "        \n",
    "        print(f\"Generating embeddings for {len(texts)} texts...\")\n",
    "        embeddings = self.model.encode(texts, show_progress_bar=True)\n",
    "        print(f\"Generated embeddings with shape: {embeddings.shape}\")\n",
    "        return embeddings\n",
    "\n",
    "\n",
    "## initialize the embedding manager\n",
    "\n",
    "embedding_manager=EmbeddingManager()\n",
    "embedding_manager"
   ]
  },
  {
   "cell_type": "code",
   "execution_count": 11,
   "id": "fb8a16ff",
   "metadata": {},
   "outputs": [
    {
     "name": "stdout",
     "output_type": "stream",
     "text": [
      "Vector store initialized. Collection: pdf_documents\n",
      "Existing documents in collection: 0\n"
     ]
    },
    {
     "data": {
      "text/plain": [
       "<__main__.VectorStore at 0x12f35e270>"
      ]
     },
     "execution_count": 11,
     "metadata": {},
     "output_type": "execute_result"
    }
   ],
   "source": [
    "class VectorStore:\n",
    "    \"\"\"Manages document embeddings in a ChromaDB vector store\"\"\"\n",
    "    \n",
    "    def __init__(self, collection_name: str = \"pdf_documents\", persist_directory: str = \"../data/vector_store\"):\n",
    "        \"\"\"\n",
    "        Initialize the vector store\n",
    "        \n",
    "        Args:\n",
    "            collection_name: Name of the ChromaDB collection\n",
    "            persist_directory: Directory to persist the vector store\n",
    "        \"\"\"\n",
    "        self.collection_name = collection_name\n",
    "        self.persist_directory = persist_directory\n",
    "        self.client = None\n",
    "        self.collection = None\n",
    "        self._initialize_store()\n",
    "\n",
    "    def _initialize_store(self):\n",
    "        \"\"\"Initialize ChromaDB client and collection\"\"\"\n",
    "        try:\n",
    "            # Create persistent ChromaDB client\n",
    "            os.makedirs(self.persist_directory, exist_ok=True)\n",
    "            self.client = chromadb.PersistentClient(path=self.persist_directory)\n",
    "            \n",
    "            # Get or create collection\n",
    "            self.collection = self.client.get_or_create_collection(\n",
    "                name=self.collection_name,\n",
    "                metadata={\"description\": \"PDF document embeddings for RAG\"}\n",
    "            )\n",
    "            print(f\"Vector store initialized. Collection: {self.collection_name}\")\n",
    "            print(f\"Existing documents in collection: {self.collection.count()}\")\n",
    "            \n",
    "        except Exception as e:\n",
    "            print(f\"Error initializing vector store: {e}\")\n",
    "            raise\n",
    "\n",
    "    def add_documents(self, documents: List[Any], embeddings: np.ndarray):\n",
    "        \"\"\"\n",
    "        Add documents and their embeddings to the vector store\n",
    "        \n",
    "        Args:\n",
    "            documents: List of LangChain documents\n",
    "            embeddings: Corresponding embeddings for the documents\n",
    "        \"\"\"\n",
    "        if len(documents) != len(embeddings):\n",
    "            raise ValueError(\"Number of documents must match number of embeddings\")\n",
    "        \n",
    "        print(f\"Adding {len(documents)} documents to vector store...\")\n",
    "        \n",
    "        # Prepare data for ChromaDB\n",
    "        ids = []\n",
    "        metadatas = []\n",
    "        documents_text = []\n",
    "        embeddings_list = []\n",
    "        \n",
    "        for i, (doc, embedding) in enumerate(zip(documents, embeddings)):\n",
    "            # Generate unique ID\n",
    "            doc_id = f\"doc_{uuid.uuid4().hex[:8]}_{i}\"\n",
    "            ids.append(doc_id)\n",
    "            \n",
    "            # Prepare metadata\n",
    "            metadata = dict(doc.metadata)\n",
    "            metadata['doc_index'] = i\n",
    "            metadata['content_length'] = len(doc.page_content)\n",
    "            metadatas.append(metadata)\n",
    "            \n",
    "            # Document content\n",
    "            documents_text.append(doc.page_content)\n",
    "            \n",
    "            # Embedding\n",
    "            embeddings_list.append(embedding.tolist())\n",
    "        \n",
    "        # Add to collection\n",
    "        try:\n",
    "            self.collection.add(\n",
    "                ids=ids,\n",
    "                embeddings=embeddings_list,\n",
    "                metadatas=metadatas,\n",
    "                documents=documents_text\n",
    "            )\n",
    "            print(f\"Successfully added {len(documents)} documents to vector store\")\n",
    "            print(f\"Total documents in collection: {self.collection.count()}\")\n",
    "            \n",
    "        except Exception as e:\n",
    "            print(f\"Error adding documents to vector store: {e}\")\n",
    "            raise\n",
    "\n",
    "vectorstore=VectorStore()\n",
    "vectorstore"
   ]
  },
  {
   "cell_type": "code",
   "execution_count": 12,
   "id": "1de8cdb5",
   "metadata": {},
   "outputs": [
    {
     "data": {
      "text/plain": [
       "[Document(metadata={'producer': 'PyPDF', 'creator': 'Microsoft Word', 'creationdate': '2025-10-21T13:51:10+00:00', 'author': 'aayush', 'moddate': '2025-10-21T13:51:10+00:00', 'source': '../data/pdf_files/Machine Learning Basics.pdf', 'total_pages': 1, 'page': 0, 'page_label': '1', 'source_file': 'Machine Learning Basics.pdf', 'file_type': 'pdf'}, page_content='Machine Learning Basics \\n \\nMachine learning is a subset of artificial intelligence that enables systems to learn and \\nimprove \\nfrom experience without being explicitly programmed. It focuses on developing \\ncomputer programs \\nthat can access data and use it to learn for themselves. \\n \\nTypes of Machine Learning: \\n1. Supervised Learning: Learning with labeled data \\n2. Unsupervised Learning: Finding patterns in unlabeled data \\n3. Reinforcement Learning: Learning through rewards and penalties \\n \\nApplications include image recognition, speech processing, and recommendation \\nsystems.'),\n",
       " Document(metadata={'producer': 'PyPDF', 'creator': 'Microsoft Word', 'creationdate': '2025-10-21T13:50:50+00:00', 'author': 'aayush', 'moddate': '2025-10-21T13:50:50+00:00', 'source': '../data/pdf_files/Python Programming Introduction.pdf', 'total_pages': 1, 'page': 0, 'page_label': '1', 'source_file': 'Python Programming Introduction.pdf', 'file_type': 'pdf'}, page_content='Python Programming Introduction \\n \\nPython is a high-level, interpreted programming language known for its simplicity and \\nreadability. \\nCreated by Guido van Rossum and first released in 1991, Python has become one of the \\nmost popular \\nprogramming languages in the world. \\n \\nKey Features: \\n- Easy to learn and use \\n- Extensive standard library \\n- Cross-platform compatibility \\n- Strong community support \\n \\nPython is widely used in web development, data science, artificial intelligence, and \\nautomation.')]"
      ]
     },
     "execution_count": 12,
     "metadata": {},
     "output_type": "execute_result"
    }
   ],
   "source": [
    "chunks"
   ]
  },
  {
   "cell_type": "code",
   "execution_count": 13,
   "id": "e38c2703",
   "metadata": {},
   "outputs": [
    {
     "name": "stdout",
     "output_type": "stream",
     "text": [
      "Generating embeddings for 2 texts...\n"
     ]
    },
    {
     "name": "stderr",
     "output_type": "stream",
     "text": [
      "Batches: 100%|██████████| 1/1 [00:03<00:00,  3.28s/it]"
     ]
    },
    {
     "name": "stdout",
     "output_type": "stream",
     "text": [
      "Generated embeddings with shape: (2, 384)\n",
      "Adding 2 documents to vector store...\n",
      "Successfully added 2 documents to vector store\n",
      "Total documents in collection: 2\n"
     ]
    },
    {
     "name": "stderr",
     "output_type": "stream",
     "text": [
      "\n"
     ]
    }
   ],
   "source": [
    "### Convert the text to embeddings\n",
    "texts=[doc.page_content for doc in chunks]\n",
    "\n",
    "## Generate the Embeddings\n",
    "\n",
    "embeddings=embedding_manager.generate_embeddings(texts)\n",
    "\n",
    "##store int he vector dtaabase\n",
    "vectorstore.add_documents(chunks,embeddings)"
   ]
  },
  {
   "cell_type": "markdown",
   "id": "9229b15b",
   "metadata": {},
   "source": [
    "### Retriever Pipeline From VectorStore\n"
   ]
  },
  {
   "cell_type": "code",
   "execution_count": 16,
   "id": "8e812ca7",
   "metadata": {},
   "outputs": [
    {
     "data": {
      "text/plain": [
       "<__main__.RAGRetriever at 0x12f5bd6a0>"
      ]
     },
     "execution_count": 16,
     "metadata": {},
     "output_type": "execute_result"
    }
   ],
   "source": [
    "class RAGRetriever:\n",
    "    \"\"\"Handles query-based retrieval from the vector store\"\"\"\n",
    "    \n",
    "    def __init__(self, vector_store: VectorStore, embedding_manager: EmbeddingManager):\n",
    "        \"\"\"\n",
    "        Initialize the retriever\n",
    "        \n",
    "        Args:\n",
    "            vector_store: Vector store containing document embeddings\n",
    "            embedding_manager: Manager for generating query embeddings\n",
    "        \"\"\"\n",
    "        self.vector_store = vector_store\n",
    "        self.embedding_manager = embedding_manager\n",
    "\n",
    "    def retrieve(self, query: str, top_k: int = 5, score_threshold: float = 0.0) -> List[Dict[str, Any]]:\n",
    "        \"\"\"\n",
    "        Retrieve relevant documents for a query\n",
    "        \n",
    "        Args:\n",
    "            query: The search query\n",
    "            top_k: Number of top results to return\n",
    "            score_threshold: Minimum similarity score threshold\n",
    "            \n",
    "        Returns:\n",
    "            List of dictionaries containing retrieved documents and metadata\n",
    "        \"\"\"\n",
    "        print(f\"Retrieving documents for query: '{query}'\")\n",
    "        print(f\"Top K: {top_k}, Score threshold: {score_threshold}\")\n",
    "        \n",
    "        # Generate query embedding\n",
    "        query_embedding = self.embedding_manager.generate_embeddings([query])[0]\n",
    "        \n",
    "        # Search in vector store\n",
    "        try:\n",
    "            results = self.vector_store.collection.query(\n",
    "                query_embeddings=[query_embedding.tolist()],\n",
    "                n_results=top_k\n",
    "            )\n",
    "            \n",
    "            # Process results\n",
    "            retrieved_docs = []\n",
    "            \n",
    "            if results['documents'] and results['documents'][0]:\n",
    "                documents = results['documents'][0]\n",
    "                metadatas = results['metadatas'][0]\n",
    "                distances = results['distances'][0]\n",
    "                ids = results['ids'][0]\n",
    "                \n",
    "                for i, (doc_id, document, metadata, distance) in enumerate(zip(ids, documents, metadatas, distances)):\n",
    "                    # Convert distance to similarity score (ChromaDB uses cosine distance)\n",
    "                    similarity_score = 1 - distance\n",
    "                    \n",
    "                    if similarity_score >= score_threshold:\n",
    "                        retrieved_docs.append({\n",
    "                            'id': doc_id,\n",
    "                            'content': document,\n",
    "                            'metadata': metadata,\n",
    "                            'similarity_score': similarity_score,\n",
    "                            'distance': distance,\n",
    "                            'rank': i + 1\n",
    "                        })\n",
    "                \n",
    "                print(f\"Retrieved {len(retrieved_docs)} documents (after filtering)\")\n",
    "            else:\n",
    "                print(\"No documents found\")\n",
    "            \n",
    "            return retrieved_docs\n",
    "            \n",
    "        except Exception as e:\n",
    "            print(f\"Error during retrieval: {e}\")\n",
    "            return []\n",
    "\n",
    "rag_retriever=RAGRetriever(vectorstore,embedding_manager)\n",
    "rag_retriever"
   ]
  },
  {
   "cell_type": "code",
   "execution_count": 17,
   "id": "cf0ac531",
   "metadata": {},
   "outputs": [
    {
     "name": "stdout",
     "output_type": "stream",
     "text": [
      "Retrieving documents for query: 'What are types of Machine Learning?'\n",
      "Top K: 5, Score threshold: 0.0\n",
      "Generating embeddings for 1 texts...\n"
     ]
    },
    {
     "name": "stderr",
     "output_type": "stream",
     "text": [
      "Batches: 100%|██████████| 1/1 [00:02<00:00,  2.77s/it]"
     ]
    },
    {
     "name": "stdout",
     "output_type": "stream",
     "text": [
      "Generated embeddings with shape: (1, 384)\n",
      "Retrieved 1 documents (after filtering)\n"
     ]
    },
    {
     "name": "stderr",
     "output_type": "stream",
     "text": [
      "\n"
     ]
    },
    {
     "data": {
      "text/plain": [
       "[{'id': 'doc_8d335dc9_0',\n",
       "  'content': 'Machine Learning Basics \\n \\nMachine learning is a subset of artificial intelligence that enables systems to learn and \\nimprove \\nfrom experience without being explicitly programmed. It focuses on developing \\ncomputer programs \\nthat can access data and use it to learn for themselves. \\n \\nTypes of Machine Learning: \\n1. Supervised Learning: Learning with labeled data \\n2. Unsupervised Learning: Finding patterns in unlabeled data \\n3. Reinforcement Learning: Learning through rewards and penalties \\n \\nApplications include image recognition, speech processing, and recommendation \\nsystems.',\n",
       "  'metadata': {'moddate': '2025-10-21T13:51:10+00:00',\n",
       "   'creator': 'Microsoft Word',\n",
       "   'file_type': 'pdf',\n",
       "   'page': 0,\n",
       "   'source_file': 'Machine Learning Basics.pdf',\n",
       "   'content_length': 583,\n",
       "   'total_pages': 1,\n",
       "   'producer': 'PyPDF',\n",
       "   'author': 'aayush',\n",
       "   'doc_index': 0,\n",
       "   'creationdate': '2025-10-21T13:51:10+00:00',\n",
       "   'source': '../data/pdf_files/Machine Learning Basics.pdf',\n",
       "   'page_label': '1'},\n",
       "  'similarity_score': 0.5289221107959747,\n",
       "  'distance': 0.47107788920402527,\n",
       "  'rank': 1}]"
      ]
     },
     "execution_count": 17,
     "metadata": {},
     "output_type": "execute_result"
    }
   ],
   "source": [
    "rag_retriever.retrieve(\"What are types of Machine Learning?\")"
   ]
  },
  {
   "cell_type": "code",
   "execution_count": 18,
   "id": "cad7206c",
   "metadata": {},
   "outputs": [
    {
     "name": "stdout",
     "output_type": "stream",
     "text": [
      "Retrieving documents for query: 'What are key features of Python?'\n",
      "Top K: 5, Score threshold: 0.0\n",
      "Generating embeddings for 1 texts...\n"
     ]
    },
    {
     "name": "stderr",
     "output_type": "stream",
     "text": [
      "Batches: 100%|██████████| 1/1 [00:00<00:00,  2.32it/s]"
     ]
    },
    {
     "name": "stdout",
     "output_type": "stream",
     "text": [
      "Generated embeddings with shape: (1, 384)\n",
      "Retrieved 1 documents (after filtering)\n"
     ]
    },
    {
     "name": "stderr",
     "output_type": "stream",
     "text": [
      "\n"
     ]
    },
    {
     "data": {
      "text/plain": [
       "[{'id': 'doc_3dce3479_1',\n",
       "  'content': 'Python Programming Introduction \\n \\nPython is a high-level, interpreted programming language known for its simplicity and \\nreadability. \\nCreated by Guido van Rossum and first released in 1991, Python has become one of the \\nmost popular \\nprogramming languages in the world. \\n \\nKey Features: \\n- Easy to learn and use \\n- Extensive standard library \\n- Cross-platform compatibility \\n- Strong community support \\n \\nPython is widely used in web development, data science, artificial intelligence, and \\nautomation.',\n",
       "  'metadata': {'page_label': '1',\n",
       "   'file_type': 'pdf',\n",
       "   'author': 'aayush',\n",
       "   'total_pages': 1,\n",
       "   'source': '../data/pdf_files/Python Programming Introduction.pdf',\n",
       "   'producer': 'PyPDF',\n",
       "   'creationdate': '2025-10-21T13:50:50+00:00',\n",
       "   'creator': 'Microsoft Word',\n",
       "   'moddate': '2025-10-21T13:50:50+00:00',\n",
       "   'content_length': 504,\n",
       "   'source_file': 'Python Programming Introduction.pdf',\n",
       "   'page': 0,\n",
       "   'doc_index': 1},\n",
       "  'similarity_score': 0.2899280786514282,\n",
       "  'distance': 0.7100719213485718,\n",
       "  'rank': 1}]"
      ]
     },
     "execution_count": 18,
     "metadata": {},
     "output_type": "execute_result"
    }
   ],
   "source": [
    "rag_retriever.retrieve(\"What are key features of Python?\")"
   ]
  }
 ],
 "metadata": {
  "kernelspec": {
   "display_name": "langchain-rag",
   "language": "python",
   "name": "python3"
  },
  "language_info": {
   "codemirror_mode": {
    "name": "ipython",
    "version": 3
   },
   "file_extension": ".py",
   "mimetype": "text/x-python",
   "name": "python",
   "nbconvert_exporter": "python",
   "pygments_lexer": "ipython3",
   "version": "3.14.0"
  }
 },
 "nbformat": 4,
 "nbformat_minor": 5
}
